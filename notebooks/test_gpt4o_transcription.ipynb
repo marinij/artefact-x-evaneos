{
  "cells": [
    {
      "cell_type": "markdown",
      "metadata": {},
      "source": [
        "# GPT-4o Audio Transcription Test\n",
        "\n",
        "This notebook tests OpenAI's GPT-4o audio transcription capabilities with multiple audio files.\n"
      ]
    },
    {
      "cell_type": "code",
      "execution_count": null,
      "metadata": {},
      "outputs": [],
      "source": [
        "import os\n",
        "from pathlib import Path\n",
        "from openai import OpenAI\n",
        "\n",
        "# Initialize OpenAI client\n",
        "client = OpenAI(api_key=os.getenv(\"OPENAI_API_KEY\"))\n"
      ]
    },
    {
      "cell_type": "markdown",
      "metadata": {},
      "source": [
        "## Setup Audio Files\n",
        "\n",
        "Place your audio files in a `data/audio` folder relative to the project root.\n",
        "Supported formats: mp3, mp4, mpeg, mpga, m4a, wav, webm\n"
      ]
    },
    {
      "cell_type": "code",
      "execution_count": 3,
      "metadata": {},
      "outputs": [
        {
          "name": "stdout",
          "output_type": "stream",
          "text": [
            "Checking for audio files...\n",
            "✓ Found: sample1.m4a (23.76 KB)\n",
            "✓ Found: sample2.m4a (45.70 KB)\n"
          ]
        }
      ],
      "source": [
        "# Define the audio files directory\n",
        "audio_dir = Path(\"../data/audio\")\n",
        "\n",
        "# List of audio files to transcribe (update with your actual files)\n",
        "audio_files = [\"sample1.m4a\", \"sample2.m4a\"]\n",
        "\n",
        "# Check if files exist\n",
        "print(\"Checking for audio files...\")\n",
        "for audio_file in audio_files:\n",
        "    file_path = audio_dir / audio_file\n",
        "    if file_path.exists():\n",
        "        print(f\"✓ Found: {audio_file} ({file_path.stat().st_size / 1024:.2f} KB)\")\n",
        "    else:\n",
        "        print(f\"✗ Missing: {audio_file}\")\n"
      ]
    },
    {
      "cell_type": "markdown",
      "metadata": {},
      "source": [
        "## Transcription Function\n",
        "\n",
        "Define a function to transcribe audio files using GPT-4o's transcription model\n"
      ]
    },
    {
      "cell_type": "code",
      "execution_count": null,
      "metadata": {},
      "outputs": [],
      "source": [
        "def transcribe_audio(file_path: Path, language: str = None) -> dict:\n",
        "    \"\"\"\n",
        "    Transcribe an audio file using GPT-4o's transcription model.\n",
        "\n",
        "    Args:\n",
        "        file_path: Path to the audio file\n",
        "        language: Optional language code (e.g., 'en', 'fr', 'es')\n",
        "\n",
        "    Returns:\n",
        "        Dictionary containing transcription results\n",
        "    \"\"\"\n",
        "    try:\n",
        "        with open(file_path, \"rb\") as audio_file:\n",
        "            # Use GPT-4o transcription model\n",
        "            transcription = client.audio.transcriptions.create(\n",
        "                model=\"gpt-4o-transcribe\",\n",
        "                file=audio_file,\n",
        "                language=language,\n",
        "                response_format=\"json\",\n",
        "            )\n",
        "\n",
        "        return {\n",
        "            \"success\": True,\n",
        "            \"file\": file_path.name,\n",
        "            \"text\": transcription.text,\n",
        "        }\n",
        "    except Exception as e:\n",
        "        return {\"success\": False, \"file\": file_path.name, \"error\": str(e)}\n"
      ]
    },
    {
      "cell_type": "markdown",
      "metadata": {},
      "source": [
        "## Transcribe All Audio Files\n",
        "\n",
        "Process each audio file and collect the results\n"
      ]
    },
    {
      "cell_type": "code",
      "execution_count": 10,
      "metadata": {},
      "outputs": [
        {
          "name": "stdout",
          "output_type": "stream",
          "text": [
            "🎤 Transcribing: sample1.m4a...\n",
            "  Preview: Je voudrais partir en Slovénie en hiver avec ma famille.\n",
            "--------------------------------------------------------------------------------\n",
            "🎤 Transcribing: sample2.m4a...\n",
            "  Preview: J'aimerais vivre une expérience incroyable avec des châteaux et des chutes d'eau énormes.\n",
            "--------------------------------------------------------------------------------\n"
          ]
        }
      ],
      "source": [
        "results = []\n",
        "\n",
        "for audio_file in audio_files:\n",
        "    file_path = audio_dir / audio_file\n",
        "\n",
        "    if not file_path.exists():\n",
        "        print(f\"⚠️  Skipping {audio_file} (file not found)\")\n",
        "        continue\n",
        "\n",
        "    print(f\"🎤 Transcribing: {audio_file}...\")\n",
        "    result = transcribe_audio(file_path)\n",
        "    results.append(result)\n",
        "\n",
        "    if result[\"success\"]:\n",
        "        print(f\"  Preview: {result['text']}\")\n",
        "    else:\n",
        "        print(f\"✗ Error: {result['error']}\")\n",
        "    print(\"-\" * 80)\n"
      ]
    }
  ],
  "metadata": {
    "kernelspec": {
      "display_name": ".venv",
      "language": "python",
      "name": "python3"
    },
    "language_info": {
      "codemirror_mode": {
        "name": "ipython",
        "version": 3
      },
      "file_extension": ".py",
      "mimetype": "text/x-python",
      "name": "python",
      "nbconvert_exporter": "python",
      "pygments_lexer": "ipython3",
      "version": "3.12.8"
    }
  },
  "nbformat": 4,
  "nbformat_minor": 2
}
